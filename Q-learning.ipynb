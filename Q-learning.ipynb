{
 "cells": [
  {
   "cell_type": "code",
   "execution_count": 1,
   "id": "0720f0f4-6b25-489a-9690-22d5647a2f1f",
   "metadata": {},
   "outputs": [],
   "source": [
    "import numpy as np\n",
    "import random"
   ]
  },
  {
   "cell_type": "code",
   "execution_count": 3,
   "id": "9bde99d8-0722-4cbd-9738-1c2cae2c8165",
   "metadata": {},
   "outputs": [],
   "source": [
    "# Define parameters for Q-Learning\n",
    "alpha = 0.1  # Learning rate\n",
    "gamma = 0.9  # Discount factor for future rewards\n",
    "epsilon = 0.1  # Exploration rate"
   ]
  },
  {
   "cell_type": "code",
   "execution_count": 5,
   "id": "20000cc4-ec7b-414c-bd51-61dd41832885",
   "metadata": {},
   "outputs": [],
   "source": [
    "# Define the state and action space\n",
    "states = ['low_traffic', 'medium_traffic', 'high_traffic']  # Example traffic conditions\n",
    "actions = ['extend_green', 'reduce_green', 'switch_light']  # Actions that adjust signal timings"
   ]
  },
  {
   "cell_type": "code",
   "execution_count": 7,
   "id": "98d18454-a0ad-4b23-b7e2-4c8956ddf8ec",
   "metadata": {},
   "outputs": [],
   "source": [
    "# Initialize Q-Table (3 states x 3 actions)\n",
    "Q_table = np.zeros((len(states), len(actions)))"
   ]
  },
  {
   "cell_type": "code",
   "execution_count": 9,
   "id": "f333f02e-ea0b-419d-bee9-20f942df533e",
   "metadata": {},
   "outputs": [],
   "source": [
    "# Reward function (Example: Negative reward for higher waiting time)\n",
    "def get_reward(state):\n",
    "    if state == 'low_traffic':\n",
    "        return -1  # Minor waiting time\n",
    "    elif state == 'medium_traffic':\n",
    "        return -5  # Moderate waiting time\n",
    "    elif state == 'high_traffic':\n",
    "        return -10  # Severe waiting time"
   ]
  },
  {
   "cell_type": "code",
   "execution_count": 11,
   "id": "abc76799-22e8-4851-a650-6d358fd19495",
   "metadata": {},
   "outputs": [],
   "source": [
    "# Choose action based on epsilon-greedy strategy\n",
    "def choose_action(state_index):\n",
    "    if random.uniform(0, 1) < epsilon:  # Exploration\n",
    "        return random.randint(0, len(actions) - 1)\n",
    "    else:  # Exploitation\n",
    "        return np.argmax(Q_table[state_index])\n"
   ]
  },
  {
   "cell_type": "code",
   "execution_count": 13,
   "id": "78655cce-4a23-44ad-b496-e11d8e46200f",
   "metadata": {},
   "outputs": [],
   "source": [
    "# Simulate environment dynamics (Example: how state changes after action)\n",
    "def get_next_state(state_index, action):\n",
    "    # This part simulates how the environment changes based on the action taken\n",
    "    if actions[action] == 'extend_green':\n",
    "        return max(0, state_index - 1)  # Traffic might decrease\n",
    "    elif actions[action] == 'reduce_green':\n",
    "        return min(len(states) - 1, state_index + 1)  # Traffic might increase\n",
    "    else:\n",
    "        return random.randint(0, len(states) - 1)  # Switch light may change traffic randomly"
   ]
  },
  {
   "cell_type": "code",
   "execution_count": 19,
   "id": "ffa0685c-02a0-46a5-9b24-0c1c3087ba86",
   "metadata": {},
   "outputs": [],
   "source": [
    "# Q-Learning Algorithm\n",
    "for episode in range(1000):  # Run for 1000 episodes\n",
    "    # Initialize state (random traffic condition)\n",
    "    current_state_index = random.randint(0, len(states) - 1)\n",
    "    \n",
    "    for step in range(100):  # Limit each episode to 100 steps\n",
    "        # Choose action\n",
    "        action_index = choose_action(current_state_index)\n",
    "        \n",
    "        # Execute action and observe next state\n",
    "        next_state_index = get_next_state(current_state_index, action_index)\n",
    "        \n",
    "        # Get reward for the current state\n",
    "        reward = get_reward(states[next_state_index])\n",
    "        \n",
    "        # Update Q-Table using Q-Learning formula\n",
    "        Q_table[current_state_index, action_index] = Q_table[current_state_index, action_index] + alpha * (\n",
    "            reward + gamma * np.max(Q_table[next_state_index]) - Q_table[current_state_index, action_index]\n",
    "        )\n",
    "        \n",
    "        # Move to next state\n",
    "        current_state_index = next_state_index"
   ]
  },
  {
   "cell_type": "code",
   "execution_count": 21,
   "id": "e23c0c4f-b137-4495-bb03-ba55e9747bb6",
   "metadata": {},
   "outputs": [
    {
     "name": "stdout",
     "output_type": "stream",
     "text": [
      "Learned Q-Table:\n",
      "[[-10.         -14.         -14.57641339]\n",
      " [-10.         -22.59995603 -13.38929113]\n",
      " [-14.         -22.57607496 -15.66499054]]\n"
     ]
    }
   ],
   "source": [
    "# Display learned Q-Table\n",
    "print(\"Learned Q-Table:\")\n",
    "print(Q_table)"
   ]
  },
  {
   "cell_type": "code",
   "execution_count": null,
   "id": "d01796e8-058b-45b1-8b65-22598b271186",
   "metadata": {},
   "outputs": [],
   "source": []
  }
 ],
 "metadata": {
  "kernelspec": {
   "display_name": "Python 3 (ipykernel)",
   "language": "python",
   "name": "python3"
  },
  "language_info": {
   "codemirror_mode": {
    "name": "ipython",
    "version": 3
   },
   "file_extension": ".py",
   "mimetype": "text/x-python",
   "name": "python",
   "nbconvert_exporter": "python",
   "pygments_lexer": "ipython3",
   "version": "3.12.4"
  }
 },
 "nbformat": 4,
 "nbformat_minor": 5
}
